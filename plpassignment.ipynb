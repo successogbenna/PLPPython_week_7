{
 "cells": [
  {
   "cell_type": "code",
   "execution_count": 14,
   "id": "c243faa6-f6e5-460a-990d-ce46d137c898",
   "metadata": {},
   "outputs": [],
   "source": [
    "import pandas as pd \n",
    "import matplotlib.pyplot as plt \n",
    "import seaborn as sns \n"
   ]
  },
  {
   "cell_type": "code",
   "execution_count": 15,
   "id": "90773914-69e9-4f9d-992f-b3fd124d193a",
   "metadata": {},
   "outputs": [
    {
     "data": {
      "text/html": [
       "<div>\n",
       "<style scoped>\n",
       "    .dataframe tbody tr th:only-of-type {\n",
       "        vertical-align: middle;\n",
       "    }\n",
       "\n",
       "    .dataframe tbody tr th {\n",
       "        vertical-align: top;\n",
       "    }\n",
       "\n",
       "    .dataframe thead th {\n",
       "        text-align: right;\n",
       "    }\n",
       "</style>\n",
       "<table border=\"1\" class=\"dataframe\">\n",
       "  <thead>\n",
       "    <tr style=\"text-align: right;\">\n",
       "      <th></th>\n",
       "      <th>Name</th>\n",
       "      <th>Platform</th>\n",
       "      <th>Year</th>\n",
       "      <th>Genre</th>\n",
       "      <th>Publisher</th>\n",
       "      <th>NA_Sales</th>\n",
       "      <th>EU_Sales</th>\n",
       "      <th>JP_Sales</th>\n",
       "      <th>Other_Sales</th>\n",
       "      <th>Global_Sales</th>\n",
       "    </tr>\n",
       "  </thead>\n",
       "  <tbody>\n",
       "    <tr>\n",
       "      <th>0</th>\n",
       "      <td>Kinect Adventures!</td>\n",
       "      <td>X360</td>\n",
       "      <td>2010.0</td>\n",
       "      <td>Misc</td>\n",
       "      <td>Microsoft Game Studios</td>\n",
       "      <td>14.97</td>\n",
       "      <td>4.94</td>\n",
       "      <td>0.24</td>\n",
       "      <td>1.67</td>\n",
       "      <td>21.82</td>\n",
       "    </tr>\n",
       "    <tr>\n",
       "      <th>1</th>\n",
       "      <td>Grand Theft Auto V</td>\n",
       "      <td>PS3</td>\n",
       "      <td>2013.0</td>\n",
       "      <td>Action</td>\n",
       "      <td>Take-Two Interactive</td>\n",
       "      <td>7.01</td>\n",
       "      <td>9.27</td>\n",
       "      <td>0.97</td>\n",
       "      <td>4.14</td>\n",
       "      <td>21.40</td>\n",
       "    </tr>\n",
       "    <tr>\n",
       "      <th>2</th>\n",
       "      <td>Grand Theft Auto V</td>\n",
       "      <td>X360</td>\n",
       "      <td>2013.0</td>\n",
       "      <td>Action</td>\n",
       "      <td>Take-Two Interactive</td>\n",
       "      <td>9.63</td>\n",
       "      <td>5.31</td>\n",
       "      <td>0.06</td>\n",
       "      <td>1.38</td>\n",
       "      <td>16.38</td>\n",
       "    </tr>\n",
       "    <tr>\n",
       "      <th>3</th>\n",
       "      <td>Call of Duty: Modern Warfare 3</td>\n",
       "      <td>X360</td>\n",
       "      <td>2011.0</td>\n",
       "      <td>Shooter</td>\n",
       "      <td>Activision</td>\n",
       "      <td>9.03</td>\n",
       "      <td>4.28</td>\n",
       "      <td>0.13</td>\n",
       "      <td>1.32</td>\n",
       "      <td>14.76</td>\n",
       "    </tr>\n",
       "    <tr>\n",
       "      <th>4</th>\n",
       "      <td>Call of Duty: Black Ops</td>\n",
       "      <td>X360</td>\n",
       "      <td>2010.0</td>\n",
       "      <td>Shooter</td>\n",
       "      <td>Activision</td>\n",
       "      <td>9.67</td>\n",
       "      <td>3.73</td>\n",
       "      <td>0.11</td>\n",
       "      <td>1.13</td>\n",
       "      <td>14.64</td>\n",
       "    </tr>\n",
       "  </tbody>\n",
       "</table>\n",
       "</div>"
      ],
      "text/plain": [
       "                             Name Platform    Year    Genre  \\\n",
       "0              Kinect Adventures!     X360  2010.0     Misc   \n",
       "1              Grand Theft Auto V      PS3  2013.0   Action   \n",
       "2              Grand Theft Auto V     X360  2013.0   Action   \n",
       "3  Call of Duty: Modern Warfare 3     X360  2011.0  Shooter   \n",
       "4         Call of Duty: Black Ops     X360  2010.0  Shooter   \n",
       "\n",
       "                Publisher  NA_Sales  EU_Sales  JP_Sales  Other_Sales  \\\n",
       "0  Microsoft Game Studios     14.97      4.94      0.24         1.67   \n",
       "1    Take-Two Interactive      7.01      9.27      0.97         4.14   \n",
       "2    Take-Two Interactive      9.63      5.31      0.06         1.38   \n",
       "3              Activision      9.03      4.28      0.13         1.32   \n",
       "4              Activision      9.67      3.73      0.11         1.13   \n",
       "\n",
       "   Global_Sales  \n",
       "0         21.82  \n",
       "1         21.40  \n",
       "2         16.38  \n",
       "3         14.76  \n",
       "4         14.64  "
      ]
     },
     "execution_count": 15,
     "metadata": {},
     "output_type": "execute_result"
    }
   ],
   "source": [
    "file = r\"C:\\Users\\SUCCESS\\Desktop\\DATA SCIENCE\\PYTHON\\The Ultimate Pandas Bootcamp Advanced Python Data Analysis\\[TutsNode.com] - The Ultimate Pandas Bootcamp Advanced Python Data Analysis\\Sources\\games_sales (1).csv\"\n",
    "data =  pd.read_csv(file)\n",
    "data.head()"
   ]
  },
  {
   "cell_type": "code",
   "execution_count": 16,
   "id": "7ef696d6-1ccb-4eb4-a3e9-e80e7591c3df",
   "metadata": {},
   "outputs": [
    {
     "name": "stdout",
     "output_type": "stream",
     "text": [
      "<class 'pandas.core.frame.DataFrame'>\n",
      "RangeIndex: 3143 entries, 0 to 3142\n",
      "Data columns (total 10 columns):\n",
      " #   Column        Non-Null Count  Dtype  \n",
      "---  ------        --------------  -----  \n",
      " 0   Name          3143 non-null   object \n",
      " 1   Platform      3143 non-null   object \n",
      " 2   Year          3088 non-null   float64\n",
      " 3   Genre         3143 non-null   object \n",
      " 4   Publisher     3136 non-null   object \n",
      " 5   NA_Sales      3143 non-null   float64\n",
      " 6   EU_Sales      3143 non-null   float64\n",
      " 7   JP_Sales      3143 non-null   float64\n",
      " 8   Other_Sales   3143 non-null   float64\n",
      " 9   Global_Sales  3143 non-null   float64\n",
      "dtypes: float64(6), object(4)\n",
      "memory usage: 245.7+ KB\n"
     ]
    }
   ],
   "source": [
    "data.info()"
   ]
  },
  {
   "cell_type": "code",
   "execution_count": 17,
   "id": "6cb3e26e-84c0-4c78-9431-6a1ef232e35b",
   "metadata": {},
   "outputs": [],
   "source": [
    "new_data =  data.groupby('Platform')['Global_Sales'].sum()"
   ]
  },
  {
   "cell_type": "code",
   "execution_count": 18,
   "id": "e8ffac4d-2ada-40fb-af15-0e863c2378bd",
   "metadata": {},
   "outputs": [
    {
     "data": {
      "text/plain": [
       "Platform\n",
       "PS3     957.84\n",
       "PS4     278.10\n",
       "X360    979.96\n",
       "XOne    141.06\n",
       "Name: Global_Sales, dtype: float64"
      ]
     },
     "execution_count": 18,
     "metadata": {},
     "output_type": "execute_result"
    }
   ],
   "source": [
    "new_data"
   ]
  },
  {
   "cell_type": "code",
   "execution_count": 19,
   "id": "79adcbd0-9552-405d-b270-8196dc1f4e55",
   "metadata": {},
   "outputs": [
    {
     "data": {
      "image/png": "[encoded data removed]",
      "text/plain": [
       "<Figure size 640x480 with 1 Axes>"
      ]
     },
     "metadata": {},
     "output_type": "display_data"
    }
   ],
   "source": [
    "new_data.plot(kind='pie', autopct='%1.2f%%',ylabel=\"\");"
   ]
  },
  {
   "cell_type": "code",
   "execution_count": 20,
   "id": "b5a3a238-4ba4-4194-a604-6dc3e62b7dc3",
   "metadata": {},
   "outputs": [
    {
     "data": {
      "text/plain": [
       "array(['Misc', 'Action', 'Shooter', 'Racing', 'Role-Playing', 'Sports',\n",
       "       'Platform', 'Adventure', 'Fighting', 'Strategy', 'Simulation',\n",
       "       'Puzzle'], dtype=object)"
      ]
     },
     "execution_count": 20,
     "metadata": {},
     "output_type": "execute_result"
    }
   ],
   "source": [
    "data.Genre.unique()"
   ]
  },
  {
   "cell_type": "code",
   "execution_count": 21,
   "id": "59ea7744-95bd-4604-9c48-cc8dc182af25",
   "metadata": {},
   "outputs": [],
   "source": [
    "sport_games =  data.loc[data['Genre'] =='Sports',['Name','Global_Sales']].groupby('Name').sum()"
   ]
  },
  {
   "cell_type": "code",
   "execution_count": 22,
   "id": "7f368e4c-dd14-4e5a-89dd-1d040f9837f0",
   "metadata": {},
   "outputs": [
    {
     "data": {
      "text/html": [
       "<div>\n",
       "<style scoped>\n",
       "    .dataframe tbody tr th:only-of-type {\n",
       "        vertical-align: middle;\n",
       "    }\n",
       "\n",
       "    .dataframe tbody tr th {\n",
       "        vertical-align: top;\n",
       "    }\n",
       "\n",
       "    .dataframe thead th {\n",
       "        text-align: right;\n",
       "    }\n",
       "</style>\n",
       "<table border=\"1\" class=\"dataframe\">\n",
       "  <thead>\n",
       "    <tr style=\"text-align: right;\">\n",
       "      <th></th>\n",
       "      <th>Global_Sales</th>\n",
       "    </tr>\n",
       "    <tr>\n",
       "      <th>Name</th>\n",
       "      <th></th>\n",
       "    </tr>\n",
       "  </thead>\n",
       "  <tbody>\n",
       "    <tr>\n",
       "      <th>2010 FIFA World Cup South Africa</th>\n",
       "      <td>2.09</td>\n",
       "    </tr>\n",
       "    <tr>\n",
       "      <th>2014 FIFA World Cup Brazil</th>\n",
       "      <td>1.18</td>\n",
       "    </tr>\n",
       "    <tr>\n",
       "      <th>After Hours Athletes</th>\n",
       "      <td>0.12</td>\n",
       "    </tr>\n",
       "    <tr>\n",
       "      <th>All-Pro Football 2K8</th>\n",
       "      <td>0.41</td>\n",
       "    </tr>\n",
       "    <tr>\n",
       "      <th>Amped 3</th>\n",
       "      <td>0.16</td>\n",
       "    </tr>\n",
       "    <tr>\n",
       "      <th>...</th>\n",
       "      <td>...</td>\n",
       "    </tr>\n",
       "    <tr>\n",
       "      <th>Your Shape: Fitness Evolved</th>\n",
       "      <td>1.33</td>\n",
       "    </tr>\n",
       "    <tr>\n",
       "      <th>Your Shape: Fitness Evolved 2012</th>\n",
       "      <td>1.17</td>\n",
       "    </tr>\n",
       "    <tr>\n",
       "      <th>Zumba Fitness</th>\n",
       "      <td>2.98</td>\n",
       "    </tr>\n",
       "    <tr>\n",
       "      <th>Zumba Fitness Rush</th>\n",
       "      <td>0.19</td>\n",
       "    </tr>\n",
       "    <tr>\n",
       "      <th>pro evolution soccer 2011</th>\n",
       "      <td>3.03</td>\n",
       "    </tr>\n",
       "  </tbody>\n",
       "</table>\n",
       "<p>288 rows × 1 columns</p>\n",
       "</div>"
      ],
      "text/plain": [
       "                                  Global_Sales\n",
       "Name                                          \n",
       "2010 FIFA World Cup South Africa          2.09\n",
       "2014 FIFA World Cup Brazil                1.18\n",
       "After Hours Athletes                      0.12\n",
       "All-Pro Football 2K8                      0.41\n",
       "Amped 3                                   0.16\n",
       "...                                        ...\n",
       "Your Shape: Fitness Evolved               1.33\n",
       "Your Shape: Fitness Evolved 2012          1.17\n",
       "Zumba Fitness                             2.98\n",
       "Zumba Fitness Rush                        0.19\n",
       "pro evolution soccer 2011                 3.03\n",
       "\n",
       "[288 rows x 1 columns]"
      ]
     },
     "execution_count": 22,
     "metadata": {},
     "output_type": "execute_result"
    }
   ],
   "source": [
    "sport_games "
   ]
  },
  {
   "cell_type": "code",
   "execution_count": 23,
   "id": "6ba556a1-d51c-4d49-b144-309e7b500602",
   "metadata": {},
   "outputs": [
    {
     "data": {
      "text/html": [
       "<div>\n",
       "<style scoped>\n",
       "    .dataframe tbody tr th:only-of-type {\n",
       "        vertical-align: middle;\n",
       "    }\n",
       "\n",
       "    .dataframe tbody tr th {\n",
       "        vertical-align: top;\n",
       "    }\n",
       "\n",
       "    .dataframe thead th {\n",
       "        text-align: right;\n",
       "    }\n",
       "</style>\n",
       "<table border=\"1\" class=\"dataframe\">\n",
       "  <thead>\n",
       "    <tr style=\"text-align: right;\">\n",
       "      <th></th>\n",
       "      <th>Global_Sales</th>\n",
       "    </tr>\n",
       "    <tr>\n",
       "      <th>Name</th>\n",
       "      <th></th>\n",
       "    </tr>\n",
       "  </thead>\n",
       "  <tbody>\n",
       "    <tr>\n",
       "      <th>FIFA 15</th>\n",
       "      <td>16.67</td>\n",
       "    </tr>\n",
       "    <tr>\n",
       "      <th>FIFA 16</th>\n",
       "      <td>16.26</td>\n",
       "    </tr>\n",
       "    <tr>\n",
       "      <th>FIFA 14</th>\n",
       "      <td>15.30</td>\n",
       "    </tr>\n",
       "    <tr>\n",
       "      <th>FIFA 12</th>\n",
       "      <td>10.88</td>\n",
       "    </tr>\n",
       "    <tr>\n",
       "      <th>FIFA Soccer 11</th>\n",
       "      <td>8.61</td>\n",
       "    </tr>\n",
       "    <tr>\n",
       "      <th>NBA 2K16</th>\n",
       "      <td>7.94</td>\n",
       "    </tr>\n",
       "    <tr>\n",
       "      <th>Madden NFL 16</th>\n",
       "      <td>7.42</td>\n",
       "    </tr>\n",
       "    <tr>\n",
       "      <th>NBA 2K15</th>\n",
       "      <td>7.06</td>\n",
       "    </tr>\n",
       "    <tr>\n",
       "      <th>Madden NFL 15</th>\n",
       "      <td>6.97</td>\n",
       "    </tr>\n",
       "    <tr>\n",
       "      <th>FIFA 17</th>\n",
       "      <td>6.86</td>\n",
       "    </tr>\n",
       "    <tr>\n",
       "      <th>NBA 2K14</th>\n",
       "      <td>6.72</td>\n",
       "    </tr>\n",
       "    <tr>\n",
       "      <th>FIFA Soccer 10</th>\n",
       "      <td>6.25</td>\n",
       "    </tr>\n",
       "    <tr>\n",
       "      <th>Kinect Sports</th>\n",
       "      <td>6.24</td>\n",
       "    </tr>\n",
       "    <tr>\n",
       "      <th>Madden NFL 25</th>\n",
       "      <td>5.54</td>\n",
       "    </tr>\n",
       "    <tr>\n",
       "      <th>NBA 2K13</th>\n",
       "      <td>5.48</td>\n",
       "    </tr>\n",
       "    <tr>\n",
       "      <th>Madden NFL 13</th>\n",
       "      <td>5.43</td>\n",
       "    </tr>\n",
       "    <tr>\n",
       "      <th>Madden NFL 10</th>\n",
       "      <td>5.20</td>\n",
       "    </tr>\n",
       "    <tr>\n",
       "      <th>Madden NFL 11</th>\n",
       "      <td>5.07</td>\n",
       "    </tr>\n",
       "    <tr>\n",
       "      <th>Madden NFL 12</th>\n",
       "      <td>4.94</td>\n",
       "    </tr>\n",
       "    <tr>\n",
       "      <th>Skate 3</th>\n",
       "      <td>4.76</td>\n",
       "    </tr>\n",
       "  </tbody>\n",
       "</table>\n",
       "</div>"
      ],
      "text/plain": [
       "                Global_Sales\n",
       "Name                        \n",
       "FIFA 15                16.67\n",
       "FIFA 16                16.26\n",
       "FIFA 14                15.30\n",
       "FIFA 12                10.88\n",
       "FIFA Soccer 11          8.61\n",
       "NBA 2K16                7.94\n",
       "Madden NFL 16           7.42\n",
       "NBA 2K15                7.06\n",
       "Madden NFL 15           6.97\n",
       "FIFA 17                 6.86\n",
       "NBA 2K14                6.72\n",
       "FIFA Soccer 10          6.25\n",
       "Kinect Sports           6.24\n",
       "Madden NFL 25           5.54\n",
       "NBA 2K13                5.48\n",
       "Madden NFL 13           5.43\n",
       "Madden NFL 10           5.20\n",
       "Madden NFL 11           5.07\n",
       "Madden NFL 12           4.94\n",
       "Skate 3                 4.76"
      ]
     },
     "execution_count": 23,
     "metadata": {},
     "output_type": "execute_result"
    }
   ],
   "source": [
    "sport_games.nlargest(20,'Global_Sales')"
   ]
  },
  {
   "cell_type": "code",
   "execution_count": 30,
   "id": "c110e3ba-f415-4857-accf-5bc53281c92f",
   "metadata": {},
   "outputs": [
    {
     "data": {
      "text/plain": [
       "<Axes: xlabel='Name'>"
      ]
     },
     "execution_count": 30,
     "metadata": {},
     "output_type": "execute_result"
    },
    {
     "data": {
      "image/png": "[encoded data removed]",
      "text/plain": [
       "<Figure size 1000x600 with 1 Axes>"
      ]
     },
     "metadata": {},
     "output_type": "display_data"
    }
   ],
   "source": [
    "\n",
    "sport_games.nlargest(20,'Global_Sales').plot(kind='line', figsize=(10,6))"
   ]
  },
  {
   "cell_type": "code",
   "execution_count": 31,
   "id": "098f6bc7-2087-43ea-9258-a0f0486703dc",
   "metadata": {},
   "outputs": [
    {
     "data": {
      "image/png": "[encoded data removed]",
      "text/plain": [
       "<Figure size 640x480 with 1 Axes>"
      ]
     },
     "metadata": {},
     "output_type": "display_data"
    }
   ],
   "source": [
    "new_data.plot(kind='bar');"
   ]
  },
  {
   "cell_type": "code",
   "execution_count": null,
   "id": "cfbb0831-ff4b-41a5-b69a-4d0825e09eaf",
   "metadata": {},
   "outputs": [],
   "source": []
  }
 ],
 "metadata": {
  "kernelspec": {
   "display_name": "Python 3 (ipykernel)",
   "language": "python",
   "name": "python3"
  },
  "language_info": {
   "codemirror_mode": {
    "name": "ipython",
    "version": 3
   },
   "file_extension": ".py",
   "mimetype": "text/x-python",
   "name": "python",
   "nbconvert_exporter": "python",
   "pygments_lexer": "ipython3",
   "version": "3.12.5"
  }
 },
 "nbformat": 4,
 "nbformat_minor": 5
}
